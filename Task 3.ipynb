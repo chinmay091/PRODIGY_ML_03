{
 "cells": [
  {
   "cell_type": "code",
   "execution_count": 82,
   "id": "b270d73a-01a4-4393-b1a7-85c8b168be87",
   "metadata": {},
   "outputs": [],
   "source": [
    "#Importing all necessary libraries"
   ]
  },
  {
   "cell_type": "code",
   "execution_count": 83,
   "id": "142fcd3c-3c4f-408e-95a1-1a480c60ecb2",
   "metadata": {},
   "outputs": [],
   "source": [
    "import os\n",
    "import cv2\n",
    "import numpy as np\n",
    "from sklearn.svm import SVC\n",
    "from sklearn.metrics import classification_report, accuracy_score\n",
    "import time\n",
    "from sklearn.model_selection import train_test_split"
   ]
  },
  {
   "cell_type": "markdown",
   "id": "1fed4f49-844e-473a-90e8-65a0d2d86a1f",
   "metadata": {},
   "source": [
    "# Loading images in the df"
   ]
  },
  {
   "cell_type": "code",
   "execution_count": 84,
   "id": "2df0f9da-fecc-46cb-a7cf-7d51eea39704",
   "metadata": {},
   "outputs": [],
   "source": [
    "def load_data(directory, num_cats, num_dogs):\n",
    "    images = []\n",
    "    labels = []\n",
    "    \n",
    "    # List all files in the directory\n",
    "    all_files = os.listdir(directory)\n",
    "    \n",
    "    # Filter files based on 'cat' and 'dog'\n",
    "    cat_files = sorted([file for file in all_files if 'cat' in file.lower()])\n",
    "    dog_files = sorted([file for file in all_files if 'dog' in file.lower()])\n",
    "    \n",
    "    # Limit to the specified number of images\n",
    "    cat_files = cat_files[:num_cats]\n",
    "    dog_files = dog_files[:num_dogs]\n",
    "    \n",
    "    # Load cat images\n",
    "    for file in cat_files:\n",
    "        img_path = os.path.join(directory, file)\n",
    "        img = cv2.imread(img_path)\n",
    "        if img is None:\n",
    "            print(f\"Failed to load image: {img_path}\")\n",
    "            continue\n",
    "        img = cv2.resize(img, (32, 32))  # Resize images to 32x32\n",
    "        img = img.flatten()  # Flatten the image to a 1D array\n",
    "        images.append(img)\n",
    "        labels.append(0)  # Label for cats is 0\n",
    "    \n",
    "    # Load dog images\n",
    "    for file in dog_files:\n",
    "        img_path = os.path.join(directory, file)\n",
    "        img = cv2.imread(img_path)\n",
    "        if img is None:\n",
    "            print(f\"Failed to load image: {img_path}\")\n",
    "            continue\n",
    "        img = cv2.resize(img, (32, 32))  # Resize images to 32x32\n",
    "        img = img.flatten()  # Flatten the image to a 1D array\n",
    "        images.append(img)\n",
    "        labels.append(1)  # Label for dogs is 1\n",
    "    \n",
    "    return np.array(images), np.array(labels)"
   ]
  },
  {
   "cell_type": "markdown",
   "id": "6f49d3fe-28b4-4977-9e94-9ff5e70239d1",
   "metadata": {},
   "source": [
    "# loading training data in df with a limit"
   ]
  },
  {
   "cell_type": "code",
   "execution_count": 85,
   "id": "d5dae16d-8d0c-49b8-a387-9d1b9e104b04",
   "metadata": {},
   "outputs": [],
   "source": [
    "data_dir = \"D:/Internship Tasks (Prodigy InfoTech)/Task 3/train\"\n",
    "X, y = load_data(data_dir, num_cats = 12500, num_dogs = 12500)\n",
    "X = X / 255.0  # Normalize data"
   ]
  },
  {
   "cell_type": "markdown",
   "id": "ee6e0b93-ebab-4caa-ad7d-a12465345bbe",
   "metadata": {},
   "source": [
    "# Print the shape of first few labels"
   ]
  },
  {
   "cell_type": "code",
   "execution_count": 86,
   "id": "7526060e-2db5-4d23-b649-888948d9c4c6",
   "metadata": {},
   "outputs": [
    {
     "name": "stdout",
     "output_type": "stream",
     "text": [
      "Shape of X: (25000, 3072)\n",
      "First 10 labels in y: [0 0 0 0 0 0 0 0 0 0]\n",
      "Unique classes in y: [0 1]\n"
     ]
    }
   ],
   "source": [
    "print(\"Shape of X:\", X.shape)\n",
    "print(\"First 10 labels in y:\", y[:10])\n",
    "print(\"Unique classes in y:\", np.unique(y))"
   ]
  },
  {
   "cell_type": "code",
   "execution_count": 87,
   "id": "34a9645b-9d9c-4ec3-ac53-255a2c0a5a6d",
   "metadata": {},
   "outputs": [
    {
     "name": "stdout",
     "output_type": "stream",
     "text": [
      "Unique classes in y_train: [0 1]\n"
     ]
    }
   ],
   "source": [
    "print(\"Unique classes in y_train:\", np.unique(y_train))"
   ]
  },
  {
   "cell_type": "markdown",
   "id": "006103a5-fdb3-4490-8af3-4861e78d2ed5",
   "metadata": {},
   "source": [
    "# Splitting training and testing data"
   ]
  },
  {
   "cell_type": "code",
   "execution_count": 88,
   "id": "8619f01d-e783-4a83-b259-ad01bc9e52a7",
   "metadata": {},
   "outputs": [],
   "source": [
    "X_train, X_test, y_train, y_test = train_test_split(X, y, train_size=1000, test_size=100, stratify=y, random_state=42)"
   ]
  },
  {
   "cell_type": "markdown",
   "id": "1937d7b9-b8c3-45b1-91e6-dd7bc32fabe8",
   "metadata": {},
   "source": [
    "# Shape of the training/testing data"
   ]
  },
  {
   "cell_type": "code",
   "execution_count": 89,
   "id": "4b3d9700-88a8-4272-990f-7e187f1c86bf",
   "metadata": {},
   "outputs": [
    {
     "name": "stdout",
     "output_type": "stream",
     "text": [
      "Shape of X_train: (1000, 3072)\n",
      "Shape of X_test: (100, 3072)\n",
      "Unique classes in y_train: [0 1]\n",
      "Unique classes in y_test: [0 1]\n"
     ]
    }
   ],
   "source": [
    "print(\"Shape of X_train:\", X_train.shape)\n",
    "print(\"Shape of X_test:\", X_test.shape)\n",
    "print(\"Unique classes in y_train:\", np.unique(y_train))\n",
    "print(\"Unique classes in y_test:\", np.unique(y_test))"
   ]
  },
  {
   "cell_type": "markdown",
   "id": "3898c9fc-e20d-47e8-a946-951318862f11",
   "metadata": {},
   "source": [
    "# Training the SVM classifier"
   ]
  },
  {
   "cell_type": "code",
   "execution_count": 90,
   "id": "91db2dd7-e7b1-4d3a-a364-f4e48aedca6d",
   "metadata": {},
   "outputs": [
    {
     "name": "stdout",
     "output_type": "stream",
     "text": [
      "Time to train the SVM: 2.9249985218048096 seconds\n"
     ]
    }
   ],
   "source": [
    "svm = SVC(kernel='linear', C=1.0, random_state=42)\n",
    "start_time = time.time()\n",
    "svm.fit(X_train, y_train)\n",
    "end_time = time.time()\n",
    "print(f\"Time to train the SVM: {end_time - start_time} seconds\")"
   ]
  },
  {
   "cell_type": "markdown",
   "id": "0f4edc10-2340-417c-ad61-cfeeaaca3756",
   "metadata": {},
   "source": [
    "# Ensure test data is not empty"
   ]
  },
  {
   "cell_type": "code",
   "execution_count": 91,
   "id": "592d15ad-2efc-47e4-98ac-44e0475e626b",
   "metadata": {},
   "outputs": [],
   "source": [
    "if X_test.size == 0 or y_test.size == 0:\n",
    "    raise ValueError(\"Test data is empty. Please check the test directory and ensure there are images available.\")"
   ]
  },
  {
   "cell_type": "markdown",
   "id": "e60bcade-44f5-4996-b33d-d395b4b4e8bc",
   "metadata": {},
   "source": [
    "# Measuring the time taken to predict"
   ]
  },
  {
   "cell_type": "code",
   "execution_count": 92,
   "id": "75c61de7-52f4-4efb-aedb-f8fe8585bd4e",
   "metadata": {},
   "outputs": [
    {
     "name": "stdout",
     "output_type": "stream",
     "text": [
      "Time to predict using the SVM on limited test data: 0.2050001621246338 seconds\n"
     ]
    }
   ],
   "source": [
    "start_time = time.time()\n",
    "y_pred = svm.predict(X_test)\n",
    "end_time = time.time()\n",
    "print(f\"Time to predict using the SVM on limited test data: {end_time - start_time} seconds\")"
   ]
  },
  {
   "cell_type": "markdown",
   "id": "b5e3cf09-f4bb-49ab-ae5f-e278e65b3004",
   "metadata": {},
   "source": [
    "# Checking the accuracy of the model"
   ]
  },
  {
   "cell_type": "code",
   "execution_count": 93,
   "id": "fab9dfea-d78c-4c68-9ade-f9e0a8bd299e",
   "metadata": {},
   "outputs": [
    {
     "name": "stdout",
     "output_type": "stream",
     "text": [
      "Accuracy: 0.5\n"
     ]
    }
   ],
   "source": [
    "print(\"Accuracy:\", accuracy_score(y_test, y_pred))"
   ]
  },
  {
   "cell_type": "code",
   "execution_count": 94,
   "id": "0f04291e-8baf-492a-8da2-aaa7f5dcc093",
   "metadata": {},
   "outputs": [
    {
     "name": "stdout",
     "output_type": "stream",
     "text": [
      "Classification Report:\n",
      "               precision    recall  f1-score   support\n",
      "\n",
      "           0       0.50      0.48      0.49        50\n",
      "           1       0.50      0.52      0.51        50\n",
      "\n",
      "    accuracy                           0.50       100\n",
      "   macro avg       0.50      0.50      0.50       100\n",
      "weighted avg       0.50      0.50      0.50       100\n",
      "\n"
     ]
    }
   ],
   "source": [
    "print(\"Classification Report:\\n\", classification_report(y_test, y_pred))"
   ]
  },
  {
   "cell_type": "code",
   "execution_count": null,
   "id": "0adf9c74-032a-4efa-9afe-18f98fa88ee5",
   "metadata": {},
   "outputs": [],
   "source": []
  }
 ],
 "metadata": {
  "kernelspec": {
   "display_name": "Python 3 (ipykernel)",
   "language": "python",
   "name": "python3"
  },
  "language_info": {
   "codemirror_mode": {
    "name": "ipython",
    "version": 3
   },
   "file_extension": ".py",
   "mimetype": "text/x-python",
   "name": "python",
   "nbconvert_exporter": "python",
   "pygments_lexer": "ipython3",
   "version": "3.11.4"
  }
 },
 "nbformat": 4,
 "nbformat_minor": 5
}
